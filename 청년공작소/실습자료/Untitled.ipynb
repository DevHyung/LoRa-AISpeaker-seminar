{
 "cells": [
  {
   "cell_type": "code",
   "execution_count": 19,
   "metadata": {},
   "outputs": [
    {
     "ename": "SyntaxError",
     "evalue": "unexpected EOF while parsing (<ipython-input-19-65c035c19094>, line 29)",
     "output_type": "error",
     "traceback": [
      "\u001b[0;36m  File \u001b[0;32m\"<ipython-input-19-65c035c19094>\"\u001b[0;36m, line \u001b[0;32m29\u001b[0m\n\u001b[0;31m    \u001b[0m\n\u001b[0m    ^\u001b[0m\n\u001b[0;31mSyntaxError\u001b[0m\u001b[0;31m:\u001b[0m unexpected EOF while parsing\n"
     ]
    }
   ],
   "source": [
    "def add(n1,n2):\n",
    "    return n1+n2\n",
    "\n",
    "\n",
    "tmp = \"\"\n",
    "while tmp != \"exit\":\n",
    "    tmp = input(\"입력:\")\n",
    "    if tmp != \"exit\":\n",
    "        # parsing\n",
    "        resultList = [] \n",
    "        ch = ''\n",
    "        for i in tmp:\n",
    "            if i == ' ':\n",
    "                resultList.append(ch)\n",
    "                ch = ''\n",
    "            else:\n",
    "                ch += i \n",
    "        resultList.append(ch)  \n",
    "\n",
    "        # check1\n",
    "        if len(resultList) !=3:\n",
    "            print(\"입력이 잘못된거\")\n",
    "        else:\n",
    "            if resultList[1] == \"+\":\n",
    "                print ( add(int(resultList[0]),int(resultList[-1])) )\n",
    "\n",
    "while True:\n",
    "    tmp = input(\"입력:\")\n",
    "    if tmp == \"exit\":\n",
    "        break\n",
    "        \n",
    "        # parsing\n",
    "        resultList = [] \n",
    "        ch = ''\n",
    "        for i in tmp:\n",
    "            if i == ' ':\n",
    "                resultList.append(ch)\n",
    "                ch = ''\n",
    "            else:\n",
    "                ch += i \n",
    "        resultList.append(ch)  \n",
    "\n",
    "        # check1\n",
    "        if len(resultList) !=3:\n",
    "            print(\"입력이 잘못된거\")\n",
    "        else:\n",
    "            if resultList[1] == \"+\":\n",
    "                print ( add(int(resultList[0]),int(resultList[-1])) )\n",
    "\n"
   ]
  },
  {
   "cell_type": "markdown",
   "metadata": {},
   "source": []
  },
  {
   "cell_type": "code",
   "execution_count": 3,
   "metadata": {},
   "outputs": [
    {
     "name": "stdout",
     "output_type": "stream",
     "text": [
      "['3', '+', '5']\n"
     ]
    }
   ],
   "source": [
    "print(inputdata.split(' '))"
   ]
  },
  {
   "cell_type": "code",
   "execution_count": 4,
   "metadata": {},
   "outputs": [
    {
     "ename": "SyntaxError",
     "evalue": "unexpected EOF while parsing (<ipython-input-4-302ce4f6df2b>, line 1)",
     "output_type": "error",
     "traceback": [
      "\u001b[0;36m  File \u001b[0;32m\"<ipython-input-4-302ce4f6df2b>\"\u001b[0;36m, line \u001b[0;32m1\u001b[0m\n\u001b[0;31m    if len(inputdata.split(' ')) != 3:\u001b[0m\n\u001b[0m                                      ^\u001b[0m\n\u001b[0;31mSyntaxError\u001b[0m\u001b[0;31m:\u001b[0m unexpected EOF while parsing\n"
     ]
    }
   ],
   "source": [
    "if len(inputdata.split(' ')) != 3:"
   ]
  },
  {
   "cell_type": "code",
   "execution_count": 5,
   "metadata": {},
   "outputs": [],
   "source": [
    "if len(inputdata.split(' ')) != 3:\n",
    "    print(\"잘못입력한거\")"
   ]
  },
  {
   "cell_type": "code",
   "execution_count": 13,
   "metadata": {},
   "outputs": [
    {
     "name": "stdout",
     "output_type": "stream",
     "text": [
      "입력하세요:30 + 25\n",
      "['30', '+', '25']\n"
     ]
    }
   ],
   "source": [
    "inputdata = input(\"입력하세요:\")\n",
    "print(inputdata.split(' '))\n",
    "if len(inputdata.split(' '))!= 3:\n",
    "    print(\"잘못입력한거\")\n",
    "    "
   ]
  },
  {
   "cell_type": "code",
   "execution_count": 7,
   "metadata": {},
   "outputs": [],
   "source": [
    "if len(inputdata.split(' ')) != 3:\n",
    "    print(\"잘못입력한거\")"
   ]
  },
  {
   "cell_type": "code",
   "execution_count": null,
   "metadata": {},
   "outputs": [],
   "source": []
  }
 ],
 "metadata": {
  "kernelspec": {
   "display_name": "Python 3",
   "language": "python",
   "name": "python3"
  },
  "language_info": {
   "codemirror_mode": {
    "name": "ipython",
    "version": 3
   },
   "file_extension": ".py",
   "mimetype": "text/x-python",
   "name": "python",
   "nbconvert_exporter": "python",
   "pygments_lexer": "ipython3",
   "version": "3.6.0"
  }
 },
 "nbformat": 4,
 "nbformat_minor": 2
}
